{
 "cells": [
  {
   "cell_type": "code",
   "execution_count": 1,
   "metadata": {},
   "outputs": [],
   "source": [
    "import pandas as pd"
   ]
  },
  {
   "cell_type": "code",
   "execution_count": 11,
   "metadata": {},
   "outputs": [],
   "source": [
    "from sklearn import datasets\n",
    "from sklearn.preprocessing import MinMaxScaler\n",
    "import scipy.stats as stats\n"
   ]
  },
  {
   "cell_type": "markdown",
   "metadata": {},
   "source": [
    "### Feature Selection on Iris Data"
   ]
  },
  {
   "cell_type": "code",
   "execution_count": 12,
   "metadata": {},
   "outputs": [],
   "source": [
    "data = datasets.load_diabetes()"
   ]
  },
  {
   "cell_type": "code",
   "execution_count": 4,
   "metadata": {},
   "outputs": [],
   "source": [
    "df = pd.DataFrame(data.data, columns=data.feature_names)\n",
    "df[\"target\"] = data.target"
   ]
  },
  {
   "cell_type": "code",
   "execution_count": 5,
   "metadata": {},
   "outputs": [
    {
     "data": {
      "text/html": [
       "<div>\n",
       "<style scoped>\n",
       "    .dataframe tbody tr th:only-of-type {\n",
       "        vertical-align: middle;\n",
       "    }\n",
       "\n",
       "    .dataframe tbody tr th {\n",
       "        vertical-align: top;\n",
       "    }\n",
       "\n",
       "    .dataframe thead th {\n",
       "        text-align: right;\n",
       "    }\n",
       "</style>\n",
       "<table border=\"1\" class=\"dataframe\">\n",
       "  <thead>\n",
       "    <tr style=\"text-align: right;\">\n",
       "      <th></th>\n",
       "      <th>age</th>\n",
       "      <th>sex</th>\n",
       "      <th>bmi</th>\n",
       "      <th>bp</th>\n",
       "      <th>s1</th>\n",
       "      <th>s2</th>\n",
       "      <th>s3</th>\n",
       "      <th>s4</th>\n",
       "      <th>s5</th>\n",
       "      <th>s6</th>\n",
       "      <th>target</th>\n",
       "    </tr>\n",
       "  </thead>\n",
       "  <tbody>\n",
       "    <tr>\n",
       "      <th>0</th>\n",
       "      <td>0.038076</td>\n",
       "      <td>0.050680</td>\n",
       "      <td>0.061696</td>\n",
       "      <td>0.021872</td>\n",
       "      <td>-0.044223</td>\n",
       "      <td>-0.034821</td>\n",
       "      <td>-0.043401</td>\n",
       "      <td>-0.002592</td>\n",
       "      <td>0.019907</td>\n",
       "      <td>-0.017646</td>\n",
       "      <td>151.0</td>\n",
       "    </tr>\n",
       "    <tr>\n",
       "      <th>1</th>\n",
       "      <td>-0.001882</td>\n",
       "      <td>-0.044642</td>\n",
       "      <td>-0.051474</td>\n",
       "      <td>-0.026328</td>\n",
       "      <td>-0.008449</td>\n",
       "      <td>-0.019163</td>\n",
       "      <td>0.074412</td>\n",
       "      <td>-0.039493</td>\n",
       "      <td>-0.068332</td>\n",
       "      <td>-0.092204</td>\n",
       "      <td>75.0</td>\n",
       "    </tr>\n",
       "    <tr>\n",
       "      <th>2</th>\n",
       "      <td>0.085299</td>\n",
       "      <td>0.050680</td>\n",
       "      <td>0.044451</td>\n",
       "      <td>-0.005670</td>\n",
       "      <td>-0.045599</td>\n",
       "      <td>-0.034194</td>\n",
       "      <td>-0.032356</td>\n",
       "      <td>-0.002592</td>\n",
       "      <td>0.002861</td>\n",
       "      <td>-0.025930</td>\n",
       "      <td>141.0</td>\n",
       "    </tr>\n",
       "    <tr>\n",
       "      <th>3</th>\n",
       "      <td>-0.089063</td>\n",
       "      <td>-0.044642</td>\n",
       "      <td>-0.011595</td>\n",
       "      <td>-0.036656</td>\n",
       "      <td>0.012191</td>\n",
       "      <td>0.024991</td>\n",
       "      <td>-0.036038</td>\n",
       "      <td>0.034309</td>\n",
       "      <td>0.022688</td>\n",
       "      <td>-0.009362</td>\n",
       "      <td>206.0</td>\n",
       "    </tr>\n",
       "    <tr>\n",
       "      <th>4</th>\n",
       "      <td>0.005383</td>\n",
       "      <td>-0.044642</td>\n",
       "      <td>-0.036385</td>\n",
       "      <td>0.021872</td>\n",
       "      <td>0.003935</td>\n",
       "      <td>0.015596</td>\n",
       "      <td>0.008142</td>\n",
       "      <td>-0.002592</td>\n",
       "      <td>-0.031988</td>\n",
       "      <td>-0.046641</td>\n",
       "      <td>135.0</td>\n",
       "    </tr>\n",
       "  </tbody>\n",
       "</table>\n",
       "</div>"
      ],
      "text/plain": [
       "        age       sex       bmi        bp        s1        s2        s3  \\\n",
       "0  0.038076  0.050680  0.061696  0.021872 -0.044223 -0.034821 -0.043401   \n",
       "1 -0.001882 -0.044642 -0.051474 -0.026328 -0.008449 -0.019163  0.074412   \n",
       "2  0.085299  0.050680  0.044451 -0.005670 -0.045599 -0.034194 -0.032356   \n",
       "3 -0.089063 -0.044642 -0.011595 -0.036656  0.012191  0.024991 -0.036038   \n",
       "4  0.005383 -0.044642 -0.036385  0.021872  0.003935  0.015596  0.008142   \n",
       "\n",
       "         s4        s5        s6  target  \n",
       "0 -0.002592  0.019907 -0.017646   151.0  \n",
       "1 -0.039493 -0.068332 -0.092204    75.0  \n",
       "2 -0.002592  0.002861 -0.025930   141.0  \n",
       "3  0.034309  0.022688 -0.009362   206.0  \n",
       "4 -0.002592 -0.031988 -0.046641   135.0  "
      ]
     },
     "execution_count": 5,
     "metadata": {},
     "output_type": "execute_result"
    }
   ],
   "source": [
    "df.head()"
   ]
  },
  {
   "cell_type": "code",
   "execution_count": 6,
   "metadata": {},
   "outputs": [
    {
     "data": {
      "text/plain": [
       "array([<Axes: title={'center': '-0.044641636506989144'}>,\n",
       "       <Axes: title={'center': '0.05068011873981862'}>], dtype=object)"
      ]
     },
     "execution_count": 6,
     "metadata": {},
     "output_type": "execute_result"
    },
    {
     "data": {
      "image/png": "[encoded data removed]",
      "text/plain": [
       "<Figure size 640x480 with 2 Axes>"
      ]
     },
     "metadata": {},
     "output_type": "display_data"
    }
   ],
   "source": [
    "df.hist('age',by='sex')"
   ]
  },
  {
   "cell_type": "code",
   "execution_count": 7,
   "metadata": {},
   "outputs": [],
   "source": [
    "sugar_male = df[df[\"sex\"] > 0][\"s1\"]  # s1 is blood sugar\n",
    "sugar_female = df[df[\"sex\"] <= 0][\"s1\"]"
   ]
  },
  {
   "cell_type": "code",
   "execution_count": 8,
   "metadata": {},
   "outputs": [],
   "source": [
    "t_stat, p_value = stats.ttest_ind(sugar_male, sugar_female)"
   ]
  },
  {
   "cell_type": "code",
   "execution_count": 9,
   "metadata": {},
   "outputs": [
    {
     "name": "stdout",
     "output_type": "stream",
     "text": [
      "T-statistic: 0.740, P-value: 0.459\n",
      "Fail to reject null hypothesis: No significant difference.\n"
     ]
    }
   ],
   "source": [
    "print(f\"T-statistic: {t_stat:.3f}, P-value: {p_value:.3f}\")\n",
    "if p_value < 0.05:\n",
    "    print(\"Reject null hypothesis: Significant difference in blood sugar levels.\")\n",
    "else:\n",
    "    print(\"Fail to reject null hypothesis: No significant difference.\")"
   ]
  },
  {
   "cell_type": "code",
   "execution_count": 10,
   "metadata": {},
   "outputs": [
    {
     "name": "stdout",
     "output_type": "stream",
     "text": [
      "F-statistic: 95.397, P-value: 0.000\n",
      "Reject null hypothesis: BMI significantly affects diabetes progression.\n"
     ]
    }
   ],
   "source": [
    "# Create BMI groups based on quartiles\n",
    "df[\"bmi_group\"] = pd.qcut(df[\"bmi\"], q=3, labels=[\"Low\", \"Medium\", \"High\"])\n",
    "\n",
    "# Split data by groups\n",
    "bmi_low = df[df[\"bmi_group\"] == \"Low\"][\"target\"]\n",
    "bmi_medium = df[df[\"bmi_group\"] == \"Medium\"][\"target\"]\n",
    "bmi_high = df[df[\"bmi_group\"] == \"High\"][\"target\"]\n",
    "\n",
    "# Perform ANOVA test\n",
    "f_stat, p_value = stats.f_oneway(bmi_low, bmi_medium, bmi_high)\n",
    "\n",
    "# Results\n",
    "print(f\"F-statistic: {f_stat:.3f}, P-value: {p_value:.3f}\")\n",
    "if p_value < 0.05:\n",
    "    print(\"Reject null hypothesis: BMI significantly affects diabetes progression.\")\n",
    "else:\n",
    "    print(\"Fail to reject null hypothesis: No significant effect of BMI.\")\n"
   ]
  },
  {
   "cell_type": "markdown",
   "metadata": {},
   "source": [
    "### Feature selection on diabetes data"
   ]
  },
  {
   "cell_type": "code",
   "execution_count": 13,
   "metadata": {},
   "outputs": [],
   "source": [
    "# Load the Iris dataset\n",
    "iris = datasets.load_iris()\n",
    "iris_df = pd.DataFrame(data=iris.data, columns=iris.feature_names)\n",
    "iris_df['target'] = iris.target\n"
   ]
  },
  {
   "cell_type": "code",
   "execution_count": 14,
   "metadata": {},
   "outputs": [],
   "source": [
    "# 1. T-Test: Compare sepal length means between two species (0 and 1)\n",
    "species_0 = iris_df[iris_df['target'] == 0]['sepal length (cm)']\n",
    "species_1 = iris_df[iris_df['target'] == 1]['sepal length (cm)']\n",
    "t_stat, p_value_ttest = stats.ttest_ind(species_0, species_1)"
   ]
  },
  {
   "cell_type": "code",
   "execution_count": 15,
   "metadata": {},
   "outputs": [],
   "source": [
    "# 2. Chi-square Test: Checking independence between target and discretized sepal length\n",
    "iris_df['sepal_length_category'] = pd.qcut(iris_df['sepal length (cm)'], q=3, labels=['small', 'medium', 'large'])\n",
    "contingency_table = pd.crosstab(iris_df['target'], iris_df['sepal_length_category'])\n",
    "chi2_stat, p_value_chi2, _, _ = stats.chi2_contingency(contingency_table)"
   ]
  },
  {
   "cell_type": "code",
   "execution_count": 16,
   "metadata": {},
   "outputs": [],
   "source": [
    "# 3. ANOVA: Comparing means of sepal width across three species\n",
    "species_0_sw = iris_df[iris_df['target'] == 0]['sepal width (cm)']\n",
    "species_1_sw = iris_df[iris_df['target'] == 1]['sepal width (cm)']\n",
    "species_2_sw = iris_df[iris_df['target'] == 2]['sepal width (cm)']\n",
    "anova_stat, p_value_anova = stats.f_oneway(species_0_sw, species_1_sw, species_2_sw)"
   ]
  },
  {
   "cell_type": "code",
   "execution_count": 18,
   "metadata": {},
   "outputs": [],
   "source": [
    "# Store results with conclusions\n",
    "hypothesis_results = {\n",
    "    \"T-Test (species 0 vs 1, sepal length)\": (t_stat, p_value_ttest, \"Significant difference in sepal length between species 0 and 1.\" if p_value_ttest < 0.05 else \"No significant difference.\"),\n",
    "    \"Chi-Square Test (target vs sepal length category)\": (chi2_stat, p_value_chi2, \"Significant association between species and sepal length category.\" if p_value_chi2 < 0.05 else \"No significant association.\"),\n",
    "    \"ANOVA (sepal width across species)\": (anova_stat, p_value_anova, \"Significant difference in sepal width across species.\" if p_value_anova < 0.05 else \"No significant difference.\")\n",
    "}"
   ]
  },
  {
   "cell_type": "code",
   "execution_count": 19,
   "metadata": {},
   "outputs": [
    {
     "name": "stdout",
     "output_type": "stream",
     "text": [
      "T-Test (species 0 vs 1, sepal length):\n",
      "  Statistic = -10.5210, p-value = 8.9852e-18\n",
      "  Conclusion: Significant difference in sepal length between species 0 and 1.\n",
      "\n",
      "Chi-Square Test (target vs sepal length category):\n",
      "  Statistic = 123.2830, p-value = 1.0624e-25\n",
      "  Conclusion: Significant association between species and sepal length category.\n",
      "\n",
      "ANOVA (sepal width across species):\n",
      "  Statistic = 49.1600, p-value = 4.4920e-17\n",
      "  Conclusion: Significant difference in sepal width across species.\n",
      "\n"
     ]
    }
   ],
   "source": [
    "\n",
    "\n",
    "# Print results\n",
    "for test_name, (stat, p_value, conclusion) in hypothesis_results.items():\n",
    "    print(f\"{test_name}:\\n  Statistic = {stat:.4f}, p-value = {p_value:.4e}\\n  Conclusion: {conclusion}\\n\")"
   ]
  }
 ],
 "metadata": {
  "kernelspec": {
   "display_name": "Python 3",
   "language": "python",
   "name": "python3"
  },
  "language_info": {
   "codemirror_mode": {
    "name": "ipython",
    "version": 3
   },
   "file_extension": ".py",
   "mimetype": "text/x-python",
   "name": "python",
   "nbconvert_exporter": "python",
   "pygments_lexer": "ipython3",
   "version": "3.11.4"
  }
 },
 "nbformat": 4,
 "nbformat_minor": 2
}
